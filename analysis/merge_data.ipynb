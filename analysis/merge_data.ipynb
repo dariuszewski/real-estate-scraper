{
 "cells": [
  {
   "cell_type": "code",
   "execution_count": 1,
   "metadata": {},
   "outputs": [],
   "source": [
    "import datetime\n",
    "import pandas as pd"
   ]
  },
  {
   "cell_type": "code",
   "execution_count": 3,
   "metadata": {},
   "outputs": [],
   "source": [
    "# pd.set_option('display.max_rows', None)\n",
    "pd.set_option('display.max_columns', None)"
   ]
  },
  {
   "cell_type": "code",
   "execution_count": 7,
   "metadata": {},
   "outputs": [],
   "source": [
    "df_flats_rental = pd.read_json('./data/22_01_2023/flats_rental_22_01_2023.json', orient='records') \n",
    "df_flats_sell = pd.read_json('./data/22_01_2023/flats_sell_22_01_2023.json', orient='records') \n",
    "df_houses_sell = pd.read_json('./data/22_01_2023/houses_sell_22_01_2023.json', orient='records')\n",
    "df = pd.concat([df_flats_rental, df_flats_sell, df_houses_sell])\n",
    "# df = df[df_flats_rental['modified_at'] > datetime.datetime(2023, 1, 19)]"
   ]
  },
  {
   "cell_type": "code",
   "execution_count": 9,
   "metadata": {},
   "outputs": [],
   "source": [
    "df = df[df['modified_at'] > datetime.datetime(2023, 1, 19)]"
   ]
  },
  {
   "cell_type": "code",
   "execution_count": 10,
   "metadata": {},
   "outputs": [],
   "source": [
    "df.to_json('./data/22_01_2023/merged_18_22_01_2023.json', orient='records')"
   ]
  }
 ],
 "metadata": {
  "kernelspec": {
   "display_name": "venv",
   "language": "python",
   "name": "python3"
  },
  "language_info": {
   "codemirror_mode": {
    "name": "ipython",
    "version": 3
   },
   "file_extension": ".py",
   "mimetype": "text/x-python",
   "name": "python",
   "nbconvert_exporter": "python",
   "pygments_lexer": "ipython3",
   "version": "3.10.9 (tags/v3.10.9:1dd9be6, Dec  6 2022, 20:01:21) [MSC v.1934 64 bit (AMD64)]"
  },
  "orig_nbformat": 4,
  "vscode": {
   "interpreter": {
    "hash": "a7dcd44b6873649b6fe027e540dd529672a8ef0cdb255597338d9dbf7d033a48"
   }
  }
 },
 "nbformat": 4,
 "nbformat_minor": 2
}
